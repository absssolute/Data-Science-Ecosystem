{
 "cells": [
  {
   "cell_type": "markdown",
   "id": "9e4bab91-602b-492d-85aa-e7a31ece474c",
   "metadata": {},
   "source": [
    "# Data Science Tools and Ecosystem"
   ]
  },
  {
   "cell_type": "markdown",
   "id": "22018fb8-8582-40d3-82b0-dd743db9b798",
   "metadata": {},
   "source": [
    "## In this notebook, Data Science Tools and Ecosystem are summarized. "
   ]
  },
  {
   "cell_type": "markdown",
   "id": "f111dd04-1799-446b-b216-adfd94af7c8e",
   "metadata": {},
   "source": [
    "## Objectives: \n",
    "* Python\n",
    "* R\n",
    "* SQL"
   ]
  },
  {
   "cell_type": "markdown",
   "id": "497920a0-57c3-4959-a272-ebf08a9926d0",
   "metadata": {
    "jp-MarkdownHeadingCollapsed": true
   },
   "source": [
    "### Some of the popular languages that Data Scientists use are:\n",
    "1. Python\n",
    "2. R\n",
    "3. SQL"
   ]
  },
  {
   "cell_type": "markdown",
   "id": "39b68bb5-5bf8-48b0-b818-c207211db190",
   "metadata": {
    "jp-MarkdownHeadingCollapsed": true
   },
   "source": [
    "### Some of the commonly used libraries used by Data Scientist include:\n",
    "1. Pandas\n",
    "2. NumPy\n",
    "3. Matplotlib\n",
    "4. Seaborn\n",
    "5. Scikit-learn\n",
    "6. Keras\n",
    "7. Tensor Flow\n",
    "8. PyTorch"
   ]
  },
  {
   "cell_type": "markdown",
   "id": "0df67254-1000-48ed-8fb0-41cdfeee94ce",
   "metadata": {},
   "source": [
    "|Data Science Tools|\n",
    "|------------------|\n",
    "| Jupyter Notebook |\n",
    "| Apache Spark |\n",
    "| RStudio|"
   ]
  },
  {
   "cell_type": "markdown",
   "id": "39000b5f-5581-4a3c-8072-8f844bbe7f5a",
   "metadata": {},
   "source": [
    "### Below are a few examples of evaluating arithmetic expressions in Python"
   ]
  },
  {
   "cell_type": "code",
   "execution_count": 3,
   "id": "2b033c4c-0ed9-425a-8616-5348071f65e3",
   "metadata": {},
   "outputs": [
    {
     "data": {
      "text/plain": [
       "17"
      ]
     },
     "execution_count": 3,
     "metadata": {},
     "output_type": "execute_result"
    }
   ],
   "source": [
    "# This is a simple arithmetic expression to multiply then add integers.\n",
    "(3*4)+5"
   ]
  },
  {
   "cell_type": "code",
   "execution_count": 4,
   "id": "f9ef1ef2-802c-486c-aeb0-6a91530a34ee",
   "metadata": {},
   "outputs": [
    {
     "data": {
      "text/plain": [
       "3.3333333333333335"
      ]
     },
     "execution_count": 4,
     "metadata": {},
     "output_type": "execute_result"
    }
   ],
   "source": [
    "# This will convert 200 minutes to hours by dividing by 60\n",
    "200/60"
   ]
  },
  {
   "cell_type": "markdown",
   "id": "fa9ce7d0-ab69-444a-a358-d29c1f46e1ce",
   "metadata": {},
   "source": [
    "## Author\n",
    "Mary Abegail Asoro"
   ]
  },
  {
   "cell_type": "code",
   "execution_count": null,
   "id": "d5e51339-65db-448e-90da-5de9952cf825",
   "metadata": {},
   "outputs": [],
   "source": []
  }
 ],
 "metadata": {
  "kernelspec": {
   "display_name": "Python [conda env:base] *",
   "language": "python",
   "name": "conda-base-py"
  },
  "language_info": {
   "codemirror_mode": {
    "name": "ipython",
    "version": 3
   },
   "file_extension": ".py",
   "mimetype": "text/x-python",
   "name": "python",
   "nbconvert_exporter": "python",
   "pygments_lexer": "ipython3",
   "version": "3.13.5"
  }
 },
 "nbformat": 4,
 "nbformat_minor": 5
}
